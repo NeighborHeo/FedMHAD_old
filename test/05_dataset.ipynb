{
 "cells": [
  {
   "cell_type": "code",
   "execution_count": 4,
   "metadata": {},
   "outputs": [],
   "source": [
    "# %%\n",
    "\n",
    "\n",
    "import os\n",
    "import sys\n",
    "sys.path.append('..')\n",
    "import utils\n",
    "import pathlib\n",
    "import argparse\n",
    "from tensorboardX import SummaryWriter\n",
    "import logging\n",
    "from datetime import datetime\n",
    "import torch \n",
    "import mymodels \n",
    "import mydataset \n",
    "from torch.utils.data import DataLoader\n",
    "from utils.myfed import *\n",
    "import yaml\n",
    "# %%\n",
    "\n",
    "yamlfilepath = pathlib.Path.cwd().parent.absolute().joinpath('config.yaml')\n",
    "args = yaml.load(yamlfilepath.open('r'), Loader=yaml.FullLoader)\n",
    "args = argparse.Namespace(**args)"
   ]
  },
  {
   "cell_type": "code",
   "execution_count": 9,
   "metadata": {},
   "outputs": [],
   "source": [
    "path = pathlib.Path(os.path.expanduser(\"~\")).joinpath('.data', 'PASCAL_VOC_2012')\n",
    "test_imgs = np.load(path.joinpath('PASCAL_VOC_val_224_Img.npy'))\n",
    "test_labels = np.load(path.joinpath('PASCAL_VOC_val_224_Label.npy'))\n"
   ]
  },
  {
   "cell_type": "code",
   "execution_count": 16,
   "metadata": {},
   "outputs": [],
   "source": [
    "path = pathlib.Path(os.path.expanduser(\"~\")).joinpath('.data', 'MSCOCO')\n",
    "public_imgs = np.load(path.joinpath('coco_img.npy'))\n",
    "public_labels = np.load(path.joinpath('coco_label.npy'))"
   ]
  },
  {
   "cell_type": "code",
   "execution_count": 19,
   "metadata": {},
   "outputs": [
    {
     "data": {
      "text/plain": [
       "((5823, 3, 224, 224), (5823, 20), (32467, 3, 224, 224), (32467, 20))"
      ]
     },
     "execution_count": 19,
     "metadata": {},
     "output_type": "execute_result"
    }
   ],
   "source": [
    "test_imgs.shape, test_labels.shape, public_imgs.shape, public_labels.shape"
   ]
  },
  {
   "cell_type": "code",
   "execution_count": 20,
   "metadata": {},
   "outputs": [],
   "source": [
    "# 0~255 -> 0~1\n",
    "public_imgs = public_imgs.astype(np.float32) / 255"
   ]
  },
  {
   "cell_type": "code",
   "execution_count": 21,
   "metadata": {},
   "outputs": [],
   "source": [
    "# public_imgs = public_imgs.reshape(-1, 3, 224, 224)\n",
    "np.save(path.joinpath('coco_img.npy'), public_imgs)"
   ]
  },
  {
   "cell_type": "code",
   "execution_count": null,
   "metadata": {},
   "outputs": [],
   "source": []
  }
 ],
 "metadata": {
  "kernelspec": {
   "display_name": ".venv",
   "language": "python",
   "name": "python3"
  },
  "language_info": {
   "codemirror_mode": {
    "name": "ipython",
    "version": 3
   },
   "file_extension": ".py",
   "mimetype": "text/x-python",
   "name": "python",
   "nbconvert_exporter": "python",
   "pygments_lexer": "ipython3",
   "version": "3.7.13"
  },
  "orig_nbformat": 4,
  "vscode": {
   "interpreter": {
    "hash": "565e3544d5dbeb515a1265a05ceb357b4338ebedb8b2db99297d61f63f17eeee"
   }
  }
 },
 "nbformat": 4,
 "nbformat_minor": 2
}
