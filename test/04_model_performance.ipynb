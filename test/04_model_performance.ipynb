{
 "cells": [
  {
   "cell_type": "code",
   "execution_count": 1,
   "metadata": {},
   "outputs": [
    {
     "name": "stderr",
     "output_type": "stream",
     "text": [
      "/home/suncheol/code/FedTest/.venv/lib/python3.9/site-packages/tqdm/auto.py:22: TqdmWarning: IProgress not found. Please update jupyter and ipywidgets. See https://ipywidgets.readthedocs.io/en/stable/user_install.html\n",
      "  from .autonotebook import tqdm as notebook_tqdm\n"
     ]
    }
   ],
   "source": [
    "# %%\n",
    "import os\n",
    "import sys\n",
    "sys.path.append(os.path.abspath(os.path.join('..')))\n",
    "import utils\n",
    "\n",
    "import pathlib\n",
    "import argparse\n",
    "from tensorboardX import SummaryWriter\n",
    "import logging\n",
    "from datetime import datetime\n",
    "import torch \n",
    "import mymodels \n",
    "import mydataset \n",
    "from torch.utils.data import DataLoader\n",
    "from utils.myfed import *\n",
    "import yaml"
   ]
  },
  {
   "cell_type": "code",
   "execution_count": 2,
   "metadata": {},
   "outputs": [],
   "source": [
    "def set_seed(seed):\n",
    "    torch.manual_seed(0)\n",
    "    torch.cuda.manual_seed(0)\n",
    "    torch.cuda.manual_seed_all(0)\n",
    "    torch.backends.cudnn.deterministic = True\n",
    "    torch.backends.cudnn.benchmark = False\n",
    "    np.random.seed(0)\n",
    "set_seed(0)"
   ]
  },
  {
   "cell_type": "code",
   "execution_count": 3,
   "metadata": {},
   "outputs": [],
   "source": [
    "# if __file__ is not defined:\n",
    "if globals().get('__file__') is None:\n",
    "    __file__ = '04_model_performance.ipynb'\n",
    "\n",
    "parent_path = pathlib.Path(\"../\").resolve()\n",
    "yamlfilepath = parent_path.joinpath('config.yaml')\n",
    "args = yaml.load(yamlfilepath.open('r'), Loader=yaml.FullLoader)\n",
    "args = argparse.Namespace(**args)\n",
    "os.environ['CUDA_VISIBLE_DEVICES']=args.gpu\n",
    "\n",
    "if args.dataset == 'cifar10':\n",
    "    publicdata = 'cifar100'\n",
    "    args.N_class = 10\n",
    "elif args.dataset == 'cifar100':\n",
    "    publicdata = 'imagenet'\n",
    "    args.N_class = 100\n",
    "elif args.dataset == 'pascal_voc2012':\n",
    "    publicdata = 'mscoco'\n",
    "    args.N_class = 20\n",
    "\n",
    "assert args.dataset in ['cifar10', 'cifar100', 'pascal_voc2012']\n",
    "args.datapath = os.path.expanduser(args.datapath)"
   ]
  },
  {
   "cell_type": "code",
   "execution_count": 4,
   "metadata": {},
   "outputs": [
    {
     "name": "stdout",
     "output_type": "stream",
     "text": [
      "pascal_voc2012 mscoco\n",
      "size of public dataset:  (3246, 224, 224, 3) images\n",
      "size of test dataset:  (5823, 3, 224, 224) images\n",
      "size of split_arr: (20, 5)\n",
      "y label : [[1. 0. 0. ... 0. 0. 0.]\n",
      " [1. 0. 0. ... 0. 0. 0.]\n",
      " [1. 0. 0. ... 0. 0. 0.]\n",
      " ...\n",
      " [0. 0. 0. ... 1. 0. 1.]\n",
      " [0. 0. 0. ... 1. 0. 1.]\n",
      " [0. 0. 0. ... 1. 0. 1.]]\n",
      "Party_0 data shape: (809, 3, 224, 224)\n",
      "Party_1 data shape: (1011, 3, 224, 224)\n",
      "Party_2 data shape: (1132, 3, 224, 224)\n",
      "Party_3 data shape: (1162, 3, 224, 224)\n",
      "Party_4 data shape: (1165, 3, 224, 224)\n",
      "Public data shape: (3246, 224, 224, 3)\n",
      "Test data shape: (5823, 3, 224, 224)\n"
     ]
    }
   ],
   "source": [
    "priv_data, _, test_dataset, public_dataset, distill_loader = mydataset.data_cifar.dirichlet_datasplit(\n",
    "    args, privtype=args.dataset, publictype=publicdata, N_parties=args.N_parties, online=not args.oneshot, public_percent=args.public_percent)\n",
    "test_loader = DataLoader(\n",
    "    dataset=test_dataset, batch_size=args.batchsize, shuffle=False, num_workers=args.num_workers, sampler=None)"
   ]
  },
  {
   "cell_type": "code",
   "execution_count": 5,
   "metadata": {},
   "outputs": [],
   "source": [
    "# max_label_counts = 0\n",
    "# for i in range(target.shape[0]):\n",
    "#     label_counts = np.sum(target[i])\n",
    "#     if label_counts > max_label_counts:\n",
    "#         max_label_counts = label_counts\n",
    "# print(max_label_counts)"
   ]
  },
  {
   "cell_type": "code",
   "execution_count": 6,
   "metadata": {},
   "outputs": [],
   "source": [
    "import utils"
   ]
  },
  {
   "cell_type": "code",
   "execution_count": 7,
   "metadata": {},
   "outputs": [
    {
     "name": "stdout",
     "output_type": "stream",
     "text": [
      "/home/suncheol/.cache/torch/hub/checkpoints/deit_tiny_patch16_224-a1311bcf.pth\n",
      "i :  0\n",
      "0.4271480909038863 0.40786536149750985 0.4673507400351453\n",
      "/home/suncheol/.cache/torch/hub/checkpoints/deit_tiny_patch16_224-a1311bcf.pth\n",
      "i :  1\n",
      "0.515538954719791 0.525845783960158 0.6287089305266559\n",
      "/home/suncheol/.cache/torch/hub/checkpoints/deit_tiny_patch16_224-a1311bcf.pth\n",
      "i :  2\n",
      "0.5877206970715486 0.6065601923407179 0.6709985903519831\n",
      "/home/suncheol/.cache/torch/hub/checkpoints/deit_tiny_patch16_224-a1311bcf.pth\n",
      "i :  3\n",
      "0.5319079512278909 0.5440494590417311 0.6372888444751957\n",
      "/home/suncheol/.cache/torch/hub/checkpoints/deit_tiny_patch16_224-a1311bcf.pth\n",
      "i :  4\n",
      "0.5557035728596803 0.5644856603125536 0.6366725028210375\n"
     ]
    }
   ],
   "source": [
    "def test(model, test_loader):\n",
    "    model.eval()\n",
    "    # testacc = utils.AverageMeter()\n",
    "    m = torch.nn.Sigmoid()\n",
    "    output_list = []\n",
    "    target_list = []\n",
    "\n",
    "    with torch.no_grad():\n",
    "        for i, (images, target, _) in enumerate(test_loader):\n",
    "            images = images.cuda()\n",
    "            target = target.cuda()\n",
    "            output = model(images)\n",
    "            \n",
    "            output_list.append(m(output).detach().cpu().numpy())\n",
    "            target_list.append(target.detach().cpu().numpy())\n",
    "            \n",
    "            # testacc.update(acc)\n",
    "    output = np.concatenate(output_list, axis=0)\n",
    "    target = np.concatenate(target_list, axis=0)\n",
    "    acc, = utils.accuracy(output, target)\n",
    "    top_k = utils.multi_label_top_margin_k_accuracy(target, output, margin=0)\n",
    "    mAP, _ = utils.compute_mean_average_precision(target, output)\n",
    "    print(acc, top_k, mAP)\n",
    "    return acc, top_k, mAP\n",
    "\n",
    "from utils.utils import *\n",
    "for i in range(5):\n",
    "    model = mymodels.define_model(modelname=args.model_name, num_classes=args.N_class, pretrained=args.pretrained)\n",
    "    # load_model = torch.load('/home/suncheol/code/FedTest/FedMAD/checkpoints/pascal_voc2012/vit_tiny_patch16_224_multilabel/a1.0+sd1+e300+b64+lkl+slmha/oneshot_c1_q0.0_n0.0_h3/q0.0_n0.0_ADAM_b64_2e-05_200_1e-05_m0.9_e7_0.6575.pt')\n",
    "    load_dict(f'/home/suncheol/code/FedTest/FedMAD/checkpoints/pascal_voc2012/vit_tiny_patch16_224_multilabel/model-{i}.pth', model)\n",
    "    print(\"i : \", i)\n",
    "    test(model, test_loader)\n",
    "    \n"
   ]
  },
  {
   "cell_type": "code",
   "execution_count": 9,
   "metadata": {},
   "outputs": [
    {
     "name": "stdout",
     "output_type": "stream",
     "text": [
      "/home/suncheol/.cache/torch/hub/checkpoints/deit_tiny_patch16_224-a1311bcf.pth\n",
      "i :  4\n",
      "0.647316879697099 0.6963764382620642 0.7292937571144642\n"
     ]
    },
    {
     "data": {
      "text/plain": [
       "(0.647316879697099, 0.6963764382620642, 0.7292937571144642)"
      ]
     },
     "execution_count": 9,
     "metadata": {},
     "output_type": "execute_result"
    }
   ],
   "source": [
    "model = mymodels.define_model(modelname=args.model_name, num_classes=args.N_class, pretrained=args.pretrained)\n",
    "# load_model = torch.load('/home/suncheol/code/FedTest/FedMAD/checkpoints/pascal_voc2012/vit_tiny_patch16_224_multilabel/a1.0+sd1+e300+b64+lkl+slmha/oneshot_c1_q0.0_n0.0_h3/q0.0_n0.0_ADAM_b64_2e-05_200_1e-05_m0.9_e7_0.6575.pt')\n",
    "load_dict(f'/home/suncheol/code/FedTest/FedMAD/checkpoints/pascal_voc2012/vit_tiny_patch16_224_multilabel/a1.0+sd1+e300+b64+lkl+slNone/oneshot_c1_q0.0_n0.0_h0/q0.0_n0.0_ADAM_b64_2e-05_200_1e-05_m0.9_e14_0.6473.pt', model)\n",
    "print(\"i : \", i)\n",
    "test(model, test_loader)"
   ]
  },
  {
   "cell_type": "code",
   "execution_count": 10,
   "metadata": {},
   "outputs": [
    {
     "name": "stdout",
     "output_type": "stream",
     "text": [
      "/home/suncheol/.cache/torch/hub/checkpoints/deit_tiny_patch16_224-a1311bcf.pth\n",
      "0.6577774506677162 0.6991241628026791 0.7299143802594539\n"
     ]
    },
    {
     "data": {
      "text/plain": [
       "(0.6577774506677162, 0.6991241628026791, 0.7299143802594539)"
      ]
     },
     "execution_count": 10,
     "metadata": {},
     "output_type": "execute_result"
    }
   ],
   "source": [
    "model = mymodels.define_model(modelname=args.model_name, num_classes=args.N_class, pretrained=args.pretrained)\n",
    "load_dict(f'/home/suncheol/code/FedTest/FedMAD/checkpoints/pascal_voc2012/vit_tiny_patch16_224_multilabel/a1.0+sd1+e300+b64+lkl+slmha/oneshot_c1_q0.0_n0.0_h3/q0.0_n0.0_ADAM_b64_2e-05_200_1e-05_m0.9_e14_0.6578.pt', model)\n",
    "test(model, test_loader)\n"
   ]
  },
  {
   "cell_type": "code",
   "execution_count": null,
   "metadata": {},
   "outputs": [],
   "source": [
    "load_dict(f'/home/suncheol/code/FedTest/FedMAD/checkpoints/pascal_voc2012/vit_tiny_patch16_224_multilabel/a1.0+sd1+e300+b64+lkl+slmha/oneshot_c1_q0.0_n0.0_h3/q0.0_n0.0_ADAM_b64_2e-05_200_1e-05_m0.9_e7_0.6557.pt', model)\n",
    "test(model, test_loader)\n",
    "load_dict(f'/home/suncheol/code/FedTest/FedMAD/checkpoints/pascal_voc2012/vit_tiny_patch16_224_multilabel/a1.0+sd1+e300+b64+lkl+slmha/oneshot_c1_q0.0_n0.0_h3/q0.0_n0.0_ADAM_b64_2e-05_200_1e-05_m0.9_e7_0.6544.pt', model)\n",
    "test(model, test_loader)\n",
    "load_dict(f'/home/suncheol/code/FedTest/FedMAD/checkpoints/pascal_voc2012/vit_tiny_patch16_224_multilabel/a1.0+sd1+e300+b64+lkl+slmha/oneshot_c1_q0.0_n0.0_h3/q0.0_n0.0_ADAM_b64_2e-05_200_1e-05_m0.9_e24_0.6505.pt', model)\n",
    "test(model, test_loader)"
   ]
  },
  {
   "cell_type": "code",
   "execution_count": null,
   "metadata": {},
   "outputs": [],
   "source": [
    "object_categories = ['aeroplane', 'bicycle', 'bird', 'boat',\n",
    "                     'bottle', 'bus', 'car', 'cat', 'chair',\n",
    "                     'cow', 'diningtable', 'dog', 'horse',\n",
    "                     'motorbike', 'person', 'pottedplant',\n",
    "                     'sheep', 'sofa', 'train', 'tvmonitor']\n",
    "\n",
    "y_score = np.array(output) \n",
    "y_test = np.array(target)\n",
    "\n",
    "th_ls = [0.1 * i for i in range(10)]\n",
    "opt_th = 0\n",
    "best_acc = 0\n",
    "def get_metrics(y_test, y_score, th):\n",
    "    y_pred = (y_score > th).astype(int)\n",
    "    acc = getAccuracy(y_test, y_pred)\n",
    "    pre = getPrecision(y_test, y_pred)\n",
    "    rec = getRecall(y_test, y_pred)\n",
    "    f1 = getF1score(y_test, y_pred)\n",
    "    return acc, pre, rec, f1\n",
    "\n",
    "for th in th_ls:\n",
    "    acc, pre, rec, f1 = get_metrics(y_test, y_score, th)\n",
    "    if acc > best_acc:\n",
    "        best_acc = acc\n",
    "        opt_th = th\n",
    "        \n",
    "acc, pre, rec, f1 = get_metrics(y_test, y_score, opt_th)\n",
    "print(\"opt threshold = {}\".format(opt_th))\n",
    "print(\"accuracy = {}\".format(acc))\n",
    "print(\"precision = {}\".format(pre))\n",
    "print(\"recall = {}\".format(rec))\n",
    "print(\"f1 score = {}\".format(f1))\n",
    "print(\"optimal threshold = {}\".format(opt_th), \"best f1 score = {}\".format(best_acc))\n",
    "\n",
    "plotMultiROCCurve(y_test, y_score)\n"
   ]
  },
  {
   "cell_type": "code",
   "execution_count": null,
   "metadata": {},
   "outputs": [],
   "source": [
    "ml_cm = multi_label_confusion_matrix(y_test, y_score > opt_th, object_categories)\n",
    "print(ml_cm)\n",
    "plotMultilabelconfusionmatrix(y_test, y_score > opt_th, object_categories)\n"
   ]
  },
  {
   "cell_type": "code",
   "execution_count": null,
   "metadata": {},
   "outputs": [],
   "source": [
    "metrics.multilabel_confusion_matrix(y_test, y_score > opt_th)"
   ]
  },
  {
   "cell_type": "code",
   "execution_count": null,
   "metadata": {},
   "outputs": [],
   "source": [
    "y_pred = (y_score > opt_th).astype(int)\n",
    "y_test = y_test.astype(int)\n",
    "labels = object_categories\n",
    "cm = metrics.multilabel_confusion_matrix(y_test, y_pred)\n",
    "''' plot n * 4 subplots '''\n",
    "nClasses = len(labels)\n",
    "fig, ax = plt.subplots(int(nClasses/5), 5, figsize=(10, 8))\n",
    "for axes, cfs_matrix, label in zip(ax.flatten(), cm, labels):\n",
    "    print(label)\n",
    "    df_cm = pd.DataFrame(cfs_matrix, index = [i for i in [\"True\", \"False\"]],\n",
    "                columns = [i for i in [\"True\", \"False\"]])\n",
    "    sns.heatmap(df_cm, annot=True, ax = axes, fmt='g')\n",
    "    axes.set_title(label)\n",
    "fig.tight_layout()\n",
    "plt.show()"
   ]
  },
  {
   "cell_type": "code",
   "execution_count": null,
   "metadata": {},
   "outputs": [],
   "source": []
  }
 ],
 "metadata": {
  "kernelspec": {
   "display_name": ".venv",
   "language": "python",
   "name": "python3"
  },
  "language_info": {
   "codemirror_mode": {
    "name": "ipython",
    "version": 3
   },
   "file_extension": ".py",
   "mimetype": "text/x-python",
   "name": "python",
   "nbconvert_exporter": "python",
   "pygments_lexer": "ipython3",
   "version": "3.9.12"
  },
  "orig_nbformat": 4,
  "vscode": {
   "interpreter": {
    "hash": "17119ea72eb6b909bd341f4b0d7a48b5939aea29e9bd033254fedca863285074"
   }
  }
 },
 "nbformat": 4,
 "nbformat_minor": 2
}
